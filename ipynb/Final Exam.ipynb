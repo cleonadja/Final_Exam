{
 "cells": [
  {
   "cell_type": "markdown",
   "metadata": {},
   "source": [
    "## 1) New AWS Instance"
   ]
  },
  {
   "cell_type": "markdown",
   "metadata": {},
   "source": [
    "![AWS Instance](New_AWS_Instance.PNG)"
   ]
  },
  {
   "cell_type": "markdown",
   "metadata": {},
   "source": [
    "## 2) Run command"
   ]
  },
  {
   "cell_type": "code",
   "execution_count": 12,
   "metadata": {
    "scrolled": true
   },
   "outputs": [
    {
     "name": "stdout",
     "output_type": "stream",
     "text": [
      "[1] \"USER       PID %CPU %MEM    VSZ   RSS TTY      STAT START   TIME COMMAND\"                                                                                                                                                  \n",
      "[2] \"jovyan       1  0.0  0.0   4364   628 ?        Ss   Jan28   0:00 tini -- start-notebook.sh\"                                                                                                                                \n",
      "[3] \"jovyan       5  0.0  6.1 358124 62232 ?        Sl   Jan28   0:06 /opt/conda/bin/python /opt/conda/bin/jupyter-notebook\"                                                                                                    \n",
      "[4] \"jovyan      27  0.0  4.7 252024 47984 ?        Ssl  00:32   0:00 /opt/conda/lib/R/bin/exec/R --slave -e IRkernel::main() --args /home/jovyan/.local/share/jupyter/runtime/kernel-2f75d268-be80-4112-ac70-c85d35b3db74.json\"\n",
      "[5] \"jovyan      83  0.1  5.5 322260 56196 ?        Ssl  03:00   0:00 /opt/conda/lib/R/bin/exec/R --slave -e IRkernel::main() --args /home/jovyan/.local/share/jupyter/runtime/kernel-e5d3c0e7-beec-4698-8b95-1de3b18b8f72.json\"\n",
      "[6] \"jovyan      96  0.0  0.0   4504   744 ?        S    03:11   0:00 sh -c ps -aux\"                                                                                                                                            \n",
      "[7] \"jovyan      97  0.0  0.3  36084  3144 ?        R    03:11   0:00 ps -aux\"                                                                                                                                                  \n"
     ]
    }
   ],
   "source": [
    "print(system(\"ps -aux\", intern = TRUE))"
   ]
  },
  {
   "cell_type": "markdown",
   "metadata": {},
   "source": [
    "## 3) How can this command be interpreted to show how long your system has been running?\n",
    "--> It has a start date of when the the jupyte notebook started running (the first line item) and the time (in UTC) on the last line item shows how long it has been running."
   ]
  },
  {
   "cell_type": "markdown",
   "metadata": {},
   "source": [
    "## 4) Vector length and magnitude"
   ]
  },
  {
   "cell_type": "markdown",
   "metadata": {},
   "source": [
    "Length for c(2,5,3,6,2,7,4,5,6) is 9\n",
    "\n",
    "Magnitude for c(2,5,3,6,2,7,4,5,6) is \n",
    "$\\sqrt{2^2 + 5^2 + 3^2 + 6^2 + 2^2 + 7^2 + 4^2 + 5^2 + 6^2}$ which is \n",
    "$\\sqrt{204}$"
   ]
  },
  {
   "cell_type": "markdown",
   "metadata": {},
   "source": [
    "## 5) Vector length and magnitude"
   ]
  },
  {
   "cell_type": "code",
   "execution_count": 3,
   "metadata": {},
   "outputs": [],
   "source": [
    "vector <- c(2, 5, 3, 6, 2, 7, 4, 5, 6)"
   ]
  },
  {
   "cell_type": "code",
   "execution_count": 4,
   "metadata": {},
   "outputs": [
    {
     "data": {
      "text/html": [
       "9"
      ],
      "text/latex": [
       "9"
      ],
      "text/markdown": [
       "9"
      ],
      "text/plain": [
       "[1] 9"
      ]
     },
     "metadata": {},
     "output_type": "display_data"
    }
   ],
   "source": [
    "length(vector)"
   ]
  },
  {
   "cell_type": "code",
   "execution_count": 5,
   "metadata": {},
   "outputs": [
    {
     "data": {
      "text/html": [
       "14.2828568570857"
      ],
      "text/latex": [
       "14.2828568570857"
      ],
      "text/markdown": [
       "14.2828568570857"
      ],
      "text/plain": [
       "[1] 14.28286"
      ]
     },
     "metadata": {},
     "output_type": "display_data"
    }
   ],
   "source": [
    "norm(vector, type=\"2\")"
   ]
  },
  {
   "cell_type": "markdown",
   "metadata": {},
   "source": [
    "## 6) Prove that the line through (3,4) and(-1,2)is y=0.5x+2.5"
   ]
  },
  {
   "cell_type": "markdown",
   "metadata": {},
   "source": [
    "Xβ=y\n",
    "\n",
    "that implies\n",
    "\n",
    "β=X−1y"
   ]
  },
  {
   "cell_type": "code",
   "execution_count": 6,
   "metadata": {},
   "outputs": [],
   "source": [
    "X <- rbind(c(1,3),c(1,-1))\n",
    "y <- c(4,2)"
   ]
  },
  {
   "cell_type": "code",
   "execution_count": 7,
   "metadata": {},
   "outputs": [
    {
     "data": {
      "text/html": [
       "<table>\n",
       "<tbody>\n",
       "\t<tr><td>1 </td><td> 3</td></tr>\n",
       "\t<tr><td>1 </td><td>-1</td></tr>\n",
       "</tbody>\n",
       "</table>\n"
      ],
      "text/latex": [
       "\\begin{tabular}{ll}\n",
       "\t 1  &  3\\\\\n",
       "\t 1  & -1\\\\\n",
       "\\end{tabular}\n"
      ],
      "text/markdown": [
       "\n",
       "| 1  |  3 | \n",
       "| 1  | -1 | \n",
       "\n",
       "\n"
      ],
      "text/plain": [
       "     [,1] [,2]\n",
       "[1,] 1     3  \n",
       "[2,] 1    -1  "
      ]
     },
     "metadata": {},
     "output_type": "display_data"
    }
   ],
   "source": [
    "X"
   ]
  },
  {
   "cell_type": "code",
   "execution_count": 8,
   "metadata": {},
   "outputs": [],
   "source": [
    "beta <- solve(X, y)"
   ]
  },
  {
   "cell_type": "code",
   "execution_count": 9,
   "metadata": {},
   "outputs": [
    {
     "data": {
      "text/html": [
       "<ol class=list-inline>\n",
       "\t<li>2.5</li>\n",
       "\t<li>0.5</li>\n",
       "</ol>\n"
      ],
      "text/latex": [
       "\\begin{enumerate*}\n",
       "\\item 2.5\n",
       "\\item 0.5\n",
       "\\end{enumerate*}\n"
      ],
      "text/markdown": [
       "1. 2.5\n",
       "2. 0.5\n",
       "\n",
       "\n"
      ],
      "text/plain": [
       "[1] 2.5 0.5"
      ]
     },
     "metadata": {},
     "output_type": "display_data"
    }
   ],
   "source": [
    "beta"
   ]
  },
  {
   "cell_type": "markdown",
   "metadata": {},
   "source": [
    "## 7) Tree for completed project repo"
   ]
  },
  {
   "cell_type": "markdown",
   "metadata": {},
   "source": [
    "![Tree](Tree.PNG)"
   ]
  },
  {
   "cell_type": "code",
   "execution_count": null,
   "metadata": {},
   "outputs": [],
   "source": []
  }
 ],
 "metadata": {
  "kernelspec": {
   "display_name": "R",
   "language": "R",
   "name": "ir"
  },
  "language_info": {
   "codemirror_mode": "r",
   "file_extension": ".r",
   "mimetype": "text/x-r-source",
   "name": "R",
   "pygments_lexer": "r",
   "version": "3.3.2"
  }
 },
 "nbformat": 4,
 "nbformat_minor": 2
}
